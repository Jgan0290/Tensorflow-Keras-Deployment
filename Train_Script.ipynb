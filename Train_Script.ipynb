{
 "cells": [
  {
   "cell_type": "code",
   "execution_count": 1,
   "metadata": {},
   "outputs": [],
   "source": [
    "import os\n",
    "import numpy as np\n",
    "import tensorflow\n",
    "import pandas as pd\n",
    "\n",
    "from tensorflow.keras.applications.resnet import ResNet152\n",
    "from tensorflow.keras.applications.resnet import preprocess_input, decode_predictions\n",
    "from tensorflow.keras.preprocessing.image import ImageDataGenerator, load_img\n",
    "from tensorflow.keras.models import Model\n",
    "from tensorflow.keras.layers import Dense, Conv2D, Reshape, Dropout, MaxPool2D, BatchNormalization, GlobalAveragePooling2D\n",
    "from tensorflow.keras.optimizers import Adam\n",
    "from tensorflow.keras.metrics import categorical_crossentropy\n",
    "from tensorflow.keras.metrics import categorical_accuracy, top_k_categorical_accuracy\n",
    "from sklearn.model_selection import train_test_split\n",
    "from tensorflow.keras.callbacks import EarlyStopping, ReduceLROnPlateau, ModelCheckpoint\n",
    "from sklearn.model_selection import train_test_split\n",
    "from sklearn.metrics import confusion_matrix\n",
    "import itertools\n",
    "import shutil\n",
    "import matplotlib.pyplot as plt\n",
    "from sklearn.metrics import classification_report\n",
    "%matplotlib inline"
   ]
  },
  {
   "cell_type": "code",
   "execution_count": 2,
   "metadata": {},
   "outputs": [
    {
     "name": "stdout",
     "output_type": "stream",
     "text": [
      "Num GPUs Available:  1\n"
     ]
    }
   ],
   "source": [
    "import tensorflow as tf\n",
    "print(\"Num GPUs Available: \", len(tf.config.experimental.list_physical_devices('GPU')))"
   ]
  },
  {
   "cell_type": "code",
   "execution_count": 3,
   "metadata": {},
   "outputs": [
    {
     "data": {
      "text/plain": [
       "['HAM10000_images_part_1',\n",
       " 'HAM10000_images_part_2',\n",
       " 'HAM10000_metadata.csv',\n",
       " 'hmnist_28_28_L.csv',\n",
       " 'hmnist_28_28_RGB.csv',\n",
       " 'hmnist_8_8_L.csv',\n",
       " 'hmnist_8_8_RGB.csv']"
      ]
     },
     "execution_count": 3,
     "metadata": {},
     "output_type": "execute_result"
    }
   ],
   "source": [
    "os.listdir('../Final FYP/input')"
   ]
  },
  {
   "cell_type": "code",
   "execution_count": 4,
   "metadata": {},
   "outputs": [],
   "source": [
    "# Create a new directory\n",
    "base_dir = 'base_dir'\n",
    "os.mkdir(base_dir)\n",
    "\n",
    "\n",
    "#[CREATE FOLDERS INSIDE THE BASE DIRECTORY]\n",
    "\n",
    "# now we create 7 folders inside 'base_dir':\n",
    "\n",
    "# train_dir\n",
    "    # nv\n",
    "    # mel\n",
    "    # bkl\n",
    "    # bcc\n",
    "    # akiec\n",
    "    # vasc\n",
    "    # df\n",
    " \n",
    "# val_dir\n",
    "    # nv\n",
    "    # mel\n",
    "    # bkl\n",
    "    # bcc\n",
    "    # akiec\n",
    "    # vasc\n",
    "    # df\n",
    "\n",
    "# create a path to 'base_dir' to which we will join the names of the new folders\n",
    "# train_dir\n",
    "train_dir = os.path.join(base_dir, 'train_dir')\n",
    "os.mkdir(train_dir)\n",
    "\n",
    "# val_dir\n",
    "val_dir = os.path.join(base_dir, 'val_dir')\n",
    "os.mkdir(val_dir)\n",
    "\n",
    "\n",
    "# [CREATE FOLDERS INSIDE THE TRAIN, VALIDATION AND TEST FOLDERS]\n",
    "# Inside each folder we create seperate folders for each class\n",
    "\n",
    "# create new folders inside train_dir\n",
    "nv = os.path.join(train_dir, 'nv')\n",
    "os.mkdir(nv)\n",
    "mel = os.path.join(train_dir, 'mel')\n",
    "os.mkdir(mel)\n",
    "bkl = os.path.join(train_dir, 'bkl')\n",
    "os.mkdir(bkl)\n",
    "bcc = os.path.join(train_dir, 'bcc')\n",
    "os.mkdir(bcc)\n",
    "akiec = os.path.join(train_dir, 'akiec')\n",
    "os.mkdir(akiec)\n",
    "vasc = os.path.join(train_dir, 'vasc')\n",
    "os.mkdir(vasc)\n",
    "df = os.path.join(train_dir, 'df')\n",
    "os.mkdir(df)\n",
    "\n",
    "\n",
    "\n",
    "# create new folders inside val_dir\n",
    "nv = os.path.join(val_dir, 'nv')\n",
    "os.mkdir(nv)\n",
    "mel = os.path.join(val_dir, 'mel')\n",
    "os.mkdir(mel)\n",
    "bkl = os.path.join(val_dir, 'bkl')\n",
    "os.mkdir(bkl)\n",
    "bcc = os.path.join(val_dir, 'bcc')\n",
    "os.mkdir(bcc)\n",
    "akiec = os.path.join(val_dir, 'akiec')\n",
    "os.mkdir(akiec)\n",
    "vasc = os.path.join(val_dir, 'vasc')\n",
    "os.mkdir(vasc)\n",
    "df = os.path.join(val_dir, 'df')\n",
    "os.mkdir(df)"
   ]
  },
  {
   "cell_type": "code",
   "execution_count": 6,
   "metadata": {},
   "outputs": [
    {
     "data": {
      "text/html": [
       "<div>\n",
       "<style scoped>\n",
       "    .dataframe tbody tr th:only-of-type {\n",
       "        vertical-align: middle;\n",
       "    }\n",
       "\n",
       "    .dataframe tbody tr th {\n",
       "        vertical-align: top;\n",
       "    }\n",
       "\n",
       "    .dataframe thead th {\n",
       "        text-align: right;\n",
       "    }\n",
       "</style>\n",
       "<table border=\"1\" class=\"dataframe\">\n",
       "  <thead>\n",
       "    <tr style=\"text-align: right;\">\n",
       "      <th></th>\n",
       "      <th>lesion_id</th>\n",
       "      <th>image_id</th>\n",
       "      <th>dx</th>\n",
       "      <th>dx_type</th>\n",
       "      <th>age</th>\n",
       "      <th>sex</th>\n",
       "      <th>localization</th>\n",
       "    </tr>\n",
       "  </thead>\n",
       "  <tbody>\n",
       "    <tr>\n",
       "      <td>0</td>\n",
       "      <td>HAM_0000118</td>\n",
       "      <td>ISIC_0027419</td>\n",
       "      <td>bkl</td>\n",
       "      <td>histo</td>\n",
       "      <td>80.0</td>\n",
       "      <td>male</td>\n",
       "      <td>scalp</td>\n",
       "    </tr>\n",
       "    <tr>\n",
       "      <td>1</td>\n",
       "      <td>HAM_0000118</td>\n",
       "      <td>ISIC_0025030</td>\n",
       "      <td>bkl</td>\n",
       "      <td>histo</td>\n",
       "      <td>80.0</td>\n",
       "      <td>male</td>\n",
       "      <td>scalp</td>\n",
       "    </tr>\n",
       "    <tr>\n",
       "      <td>2</td>\n",
       "      <td>HAM_0002730</td>\n",
       "      <td>ISIC_0026769</td>\n",
       "      <td>bkl</td>\n",
       "      <td>histo</td>\n",
       "      <td>80.0</td>\n",
       "      <td>male</td>\n",
       "      <td>scalp</td>\n",
       "    </tr>\n",
       "    <tr>\n",
       "      <td>3</td>\n",
       "      <td>HAM_0002730</td>\n",
       "      <td>ISIC_0025661</td>\n",
       "      <td>bkl</td>\n",
       "      <td>histo</td>\n",
       "      <td>80.0</td>\n",
       "      <td>male</td>\n",
       "      <td>scalp</td>\n",
       "    </tr>\n",
       "    <tr>\n",
       "      <td>4</td>\n",
       "      <td>HAM_0001466</td>\n",
       "      <td>ISIC_0031633</td>\n",
       "      <td>bkl</td>\n",
       "      <td>histo</td>\n",
       "      <td>75.0</td>\n",
       "      <td>male</td>\n",
       "      <td>ear</td>\n",
       "    </tr>\n",
       "  </tbody>\n",
       "</table>\n",
       "</div>"
      ],
      "text/plain": [
       "     lesion_id      image_id   dx dx_type   age   sex localization\n",
       "0  HAM_0000118  ISIC_0027419  bkl   histo  80.0  male        scalp\n",
       "1  HAM_0000118  ISIC_0025030  bkl   histo  80.0  male        scalp\n",
       "2  HAM_0002730  ISIC_0026769  bkl   histo  80.0  male        scalp\n",
       "3  HAM_0002730  ISIC_0025661  bkl   histo  80.0  male        scalp\n",
       "4  HAM_0001466  ISIC_0031633  bkl   histo  75.0  male          ear"
      ]
     },
     "execution_count": 6,
     "metadata": {},
     "output_type": "execute_result"
    }
   ],
   "source": [
    "df_data = pd.read_csv('../Final FYP/input/HAM10000_metadata.csv')\n",
    "\n",
    "df_data.head()"
   ]
  },
  {
   "cell_type": "code",
   "execution_count": 7,
   "metadata": {},
   "outputs": [
    {
     "data": {
      "text/html": [
       "<div>\n",
       "<style scoped>\n",
       "    .dataframe tbody tr th:only-of-type {\n",
       "        vertical-align: middle;\n",
       "    }\n",
       "\n",
       "    .dataframe tbody tr th {\n",
       "        vertical-align: top;\n",
       "    }\n",
       "\n",
       "    .dataframe thead th {\n",
       "        text-align: right;\n",
       "    }\n",
       "</style>\n",
       "<table border=\"1\" class=\"dataframe\">\n",
       "  <thead>\n",
       "    <tr style=\"text-align: right;\">\n",
       "      <th></th>\n",
       "      <th>lesion_id</th>\n",
       "      <th>image_id</th>\n",
       "      <th>dx</th>\n",
       "      <th>dx_type</th>\n",
       "      <th>age</th>\n",
       "      <th>sex</th>\n",
       "      <th>localization</th>\n",
       "    </tr>\n",
       "  </thead>\n",
       "  <tbody>\n",
       "    <tr>\n",
       "      <td>0</td>\n",
       "      <td>HAM_0000001</td>\n",
       "      <td>1</td>\n",
       "      <td>1</td>\n",
       "      <td>1</td>\n",
       "      <td>1</td>\n",
       "      <td>1</td>\n",
       "      <td>1</td>\n",
       "    </tr>\n",
       "    <tr>\n",
       "      <td>1</td>\n",
       "      <td>HAM_0000003</td>\n",
       "      <td>1</td>\n",
       "      <td>1</td>\n",
       "      <td>1</td>\n",
       "      <td>1</td>\n",
       "      <td>1</td>\n",
       "      <td>1</td>\n",
       "    </tr>\n",
       "    <tr>\n",
       "      <td>2</td>\n",
       "      <td>HAM_0000004</td>\n",
       "      <td>1</td>\n",
       "      <td>1</td>\n",
       "      <td>1</td>\n",
       "      <td>1</td>\n",
       "      <td>1</td>\n",
       "      <td>1</td>\n",
       "    </tr>\n",
       "    <tr>\n",
       "      <td>3</td>\n",
       "      <td>HAM_0000007</td>\n",
       "      <td>1</td>\n",
       "      <td>1</td>\n",
       "      <td>1</td>\n",
       "      <td>1</td>\n",
       "      <td>1</td>\n",
       "      <td>1</td>\n",
       "    </tr>\n",
       "    <tr>\n",
       "      <td>4</td>\n",
       "      <td>HAM_0000008</td>\n",
       "      <td>1</td>\n",
       "      <td>1</td>\n",
       "      <td>1</td>\n",
       "      <td>1</td>\n",
       "      <td>1</td>\n",
       "      <td>1</td>\n",
       "    </tr>\n",
       "  </tbody>\n",
       "</table>\n",
       "</div>"
      ],
      "text/plain": [
       "     lesion_id  image_id  dx  dx_type  age  sex  localization\n",
       "0  HAM_0000001         1   1        1    1    1             1\n",
       "1  HAM_0000003         1   1        1    1    1             1\n",
       "2  HAM_0000004         1   1        1    1    1             1\n",
       "3  HAM_0000007         1   1        1    1    1             1\n",
       "4  HAM_0000008         1   1        1    1    1             1"
      ]
     },
     "execution_count": 7,
     "metadata": {},
     "output_type": "execute_result"
    }
   ],
   "source": [
    "# this will tell us how many images are associated with each lesion_id\n",
    "df = df_data.groupby('lesion_id').count()\n",
    "\n",
    "# now we filter out lesion_id's that have only one image associated with it\n",
    "df = df[df['image_id'] == 1]\n",
    "\n",
    "df.reset_index(inplace=True)\n",
    "\n",
    "df.head()\n"
   ]
  },
  {
   "cell_type": "code",
   "execution_count": 8,
   "metadata": {},
   "outputs": [
    {
     "data": {
      "text/html": [
       "<div>\n",
       "<style scoped>\n",
       "    .dataframe tbody tr th:only-of-type {\n",
       "        vertical-align: middle;\n",
       "    }\n",
       "\n",
       "    .dataframe tbody tr th {\n",
       "        vertical-align: top;\n",
       "    }\n",
       "\n",
       "    .dataframe thead th {\n",
       "        text-align: right;\n",
       "    }\n",
       "</style>\n",
       "<table border=\"1\" class=\"dataframe\">\n",
       "  <thead>\n",
       "    <tr style=\"text-align: right;\">\n",
       "      <th></th>\n",
       "      <th>lesion_id</th>\n",
       "      <th>image_id</th>\n",
       "      <th>dx</th>\n",
       "      <th>dx_type</th>\n",
       "      <th>age</th>\n",
       "      <th>sex</th>\n",
       "      <th>localization</th>\n",
       "      <th>duplicates</th>\n",
       "    </tr>\n",
       "  </thead>\n",
       "  <tbody>\n",
       "    <tr>\n",
       "      <td>0</td>\n",
       "      <td>HAM_0000118</td>\n",
       "      <td>ISIC_0027419</td>\n",
       "      <td>bkl</td>\n",
       "      <td>histo</td>\n",
       "      <td>80.0</td>\n",
       "      <td>male</td>\n",
       "      <td>scalp</td>\n",
       "      <td>has_duplicates</td>\n",
       "    </tr>\n",
       "    <tr>\n",
       "      <td>1</td>\n",
       "      <td>HAM_0000118</td>\n",
       "      <td>ISIC_0025030</td>\n",
       "      <td>bkl</td>\n",
       "      <td>histo</td>\n",
       "      <td>80.0</td>\n",
       "      <td>male</td>\n",
       "      <td>scalp</td>\n",
       "      <td>has_duplicates</td>\n",
       "    </tr>\n",
       "    <tr>\n",
       "      <td>2</td>\n",
       "      <td>HAM_0002730</td>\n",
       "      <td>ISIC_0026769</td>\n",
       "      <td>bkl</td>\n",
       "      <td>histo</td>\n",
       "      <td>80.0</td>\n",
       "      <td>male</td>\n",
       "      <td>scalp</td>\n",
       "      <td>has_duplicates</td>\n",
       "    </tr>\n",
       "    <tr>\n",
       "      <td>3</td>\n",
       "      <td>HAM_0002730</td>\n",
       "      <td>ISIC_0025661</td>\n",
       "      <td>bkl</td>\n",
       "      <td>histo</td>\n",
       "      <td>80.0</td>\n",
       "      <td>male</td>\n",
       "      <td>scalp</td>\n",
       "      <td>has_duplicates</td>\n",
       "    </tr>\n",
       "    <tr>\n",
       "      <td>4</td>\n",
       "      <td>HAM_0001466</td>\n",
       "      <td>ISIC_0031633</td>\n",
       "      <td>bkl</td>\n",
       "      <td>histo</td>\n",
       "      <td>75.0</td>\n",
       "      <td>male</td>\n",
       "      <td>ear</td>\n",
       "      <td>has_duplicates</td>\n",
       "    </tr>\n",
       "  </tbody>\n",
       "</table>\n",
       "</div>"
      ],
      "text/plain": [
       "     lesion_id      image_id   dx dx_type   age   sex localization  \\\n",
       "0  HAM_0000118  ISIC_0027419  bkl   histo  80.0  male        scalp   \n",
       "1  HAM_0000118  ISIC_0025030  bkl   histo  80.0  male        scalp   \n",
       "2  HAM_0002730  ISIC_0026769  bkl   histo  80.0  male        scalp   \n",
       "3  HAM_0002730  ISIC_0025661  bkl   histo  80.0  male        scalp   \n",
       "4  HAM_0001466  ISIC_0031633  bkl   histo  75.0  male          ear   \n",
       "\n",
       "       duplicates  \n",
       "0  has_duplicates  \n",
       "1  has_duplicates  \n",
       "2  has_duplicates  \n",
       "3  has_duplicates  \n",
       "4  has_duplicates  "
      ]
     },
     "execution_count": 8,
     "metadata": {},
     "output_type": "execute_result"
    }
   ],
   "source": [
    "# here we identify lesion_id's that have duplicate images and those that have only\n",
    "# one image.\n",
    "\n",
    "def identify_duplicates(x):\n",
    "    \n",
    "    unique_list = list(df['lesion_id'])\n",
    "    \n",
    "    if x in unique_list:\n",
    "        return 'no_duplicates'\n",
    "    else:\n",
    "        return 'has_duplicates'\n",
    "    \n",
    "# create a new colum that is a copy of the lesion_id column\n",
    "df_data['duplicates'] = df_data['lesion_id']\n",
    "# apply the function to this new column\n",
    "df_data['duplicates'] = df_data['duplicates'].apply(identify_duplicates)\n",
    "\n",
    "df_data.head()"
   ]
  },
  {
   "cell_type": "code",
   "execution_count": 9,
   "metadata": {},
   "outputs": [
    {
     "data": {
      "text/plain": [
       "no_duplicates     5514\n",
       "has_duplicates    4501\n",
       "Name: duplicates, dtype: int64"
      ]
     },
     "execution_count": 9,
     "metadata": {},
     "output_type": "execute_result"
    }
   ],
   "source": [
    "df_data['duplicates'].value_counts()"
   ]
  },
  {
   "cell_type": "code",
   "execution_count": 10,
   "metadata": {},
   "outputs": [
    {
     "data": {
      "text/plain": [
       "(5514, 8)"
      ]
     },
     "execution_count": 10,
     "metadata": {},
     "output_type": "execute_result"
    }
   ],
   "source": [
    "# now we filter out images that don't have duplicates\n",
    "df = df_data[df_data['duplicates'] == 'no_duplicates']\n",
    "\n",
    "df.shape"
   ]
  },
  {
   "cell_type": "code",
   "execution_count": 11,
   "metadata": {},
   "outputs": [
    {
     "data": {
      "text/plain": [
       "(938, 8)"
      ]
     },
     "execution_count": 11,
     "metadata": {},
     "output_type": "execute_result"
    }
   ],
   "source": [
    "# now we create a val set using df because we are sure that none of these images\n",
    "# have augmented duplicates in the train set\n",
    "y = df['dx']\n",
    "\n",
    "_, df_val = train_test_split(df, test_size=0.17, random_state=101, stratify=y)\n",
    "\n",
    "df_val.shape"
   ]
  },
  {
   "cell_type": "code",
   "execution_count": 12,
   "metadata": {},
   "outputs": [
    {
     "data": {
      "text/plain": [
       "nv       751\n",
       "bkl       75\n",
       "mel       39\n",
       "bcc       30\n",
       "akiec     26\n",
       "vasc      11\n",
       "df         6\n",
       "Name: dx, dtype: int64"
      ]
     },
     "execution_count": 12,
     "metadata": {},
     "output_type": "execute_result"
    }
   ],
   "source": [
    "df_val['dx'].value_counts()"
   ]
  },
  {
   "cell_type": "code",
   "execution_count": 13,
   "metadata": {},
   "outputs": [
    {
     "name": "stdout",
     "output_type": "stream",
     "text": [
      "9077\n",
      "938\n"
     ]
    }
   ],
   "source": [
    "# This set will be df_data excluding all rows that are in the val set\n",
    "\n",
    "# This function identifies if an image is part of the train\n",
    "# or val set.\n",
    "def identify_val_rows(x):\n",
    "    # create a list of all the lesion_id's in the val set\n",
    "    val_list = list(df_val['image_id'])\n",
    "    \n",
    "    if str(x) in val_list:\n",
    "        return 'val'\n",
    "    else:\n",
    "        return 'train'\n",
    "\n",
    "# identify train and val rows\n",
    "\n",
    "# create a new colum that is a copy of the image_id column\n",
    "df_data['train_or_val'] = df_data['image_id']\n",
    "# apply the function to this new column\n",
    "df_data['train_or_val'] = df_data['train_or_val'].apply(identify_val_rows)\n",
    "   \n",
    "# filter out train rows\n",
    "df_train = df_data[df_data['train_or_val'] == 'train']\n",
    "\n",
    "\n",
    "print(len(df_train))\n",
    "print(len(df_val))"
   ]
  },
  {
   "cell_type": "code",
   "execution_count": 14,
   "metadata": {},
   "outputs": [
    {
     "data": {
      "text/plain": [
       "nv       5954\n",
       "mel      1074\n",
       "bkl      1024\n",
       "bcc       484\n",
       "akiec     301\n",
       "vasc      131\n",
       "df        109\n",
       "Name: dx, dtype: int64"
      ]
     },
     "execution_count": 14,
     "metadata": {},
     "output_type": "execute_result"
    }
   ],
   "source": [
    "df_train['dx'].value_counts()"
   ]
  },
  {
   "cell_type": "code",
   "execution_count": 15,
   "metadata": {},
   "outputs": [
    {
     "data": {
      "text/plain": [
       "nv       751\n",
       "bkl       75\n",
       "mel       39\n",
       "bcc       30\n",
       "akiec     26\n",
       "vasc      11\n",
       "df         6\n",
       "Name: dx, dtype: int64"
      ]
     },
     "execution_count": 15,
     "metadata": {},
     "output_type": "execute_result"
    }
   ],
   "source": [
    "df_val['dx'].value_counts()"
   ]
  },
  {
   "cell_type": "code",
   "execution_count": 16,
   "metadata": {},
   "outputs": [],
   "source": [
    "# Set the image_id as the index in df_data\n",
    "df_data.set_index('image_id', inplace=True)"
   ]
  },
  {
   "cell_type": "code",
   "execution_count": 18,
   "metadata": {},
   "outputs": [],
   "source": [
    "# Get a list of images in each of the two folders\n",
    "folder_1 = os.listdir('../Final FYP/input/ham10000_images_part_1')\n",
    "folder_2 = os.listdir('../Final FYP/input/ham10000_images_part_2')\n",
    "\n",
    "# Get a list of train and val images\n",
    "train_list = list(df_train['image_id'])\n",
    "val_list = list(df_val['image_id'])\n",
    "\n",
    "\n",
    "\n",
    "# Transfer the train images\n",
    "\n",
    "for image in train_list:\n",
    "    \n",
    "    fname = image + '.jpg'\n",
    "    label = df_data.loc[image,'dx']\n",
    "    \n",
    "    if fname in folder_1:\n",
    "        # source path to image\n",
    "        src = os.path.join('../Final FYP/input/ham10000_images_part_1', fname)\n",
    "        # destination path to image\n",
    "        dst = os.path.join(train_dir, label, fname)\n",
    "        # copy the image from the source to the destination\n",
    "        shutil.copyfile(src, dst)\n",
    "\n",
    "    if fname in folder_2:\n",
    "        # source path to image\n",
    "        src = os.path.join('../Final FYP/input/ham10000_images_part_2', fname)\n",
    "        # destination path to image\n",
    "        dst = os.path.join(train_dir, label, fname)\n",
    "        # copy the image from the source to the destination\n",
    "        shutil.copyfile(src, dst)\n",
    "\n",
    "\n",
    "# Transfer the val images\n",
    "\n",
    "for image in val_list:\n",
    "    \n",
    "    fname = image + '.jpg'\n",
    "    label = df_data.loc[image,'dx']\n",
    "    \n",
    "    if fname in folder_1:\n",
    "        # source path to image\n",
    "        src = os.path.join('../Final FYP/input/ham10000_images_part_1', fname)\n",
    "        # destination path to image\n",
    "        dst = os.path.join(val_dir, label, fname)\n",
    "        # copy the image from the source to the destination\n",
    "        shutil.copyfile(src, dst)\n",
    "\n",
    "    if fname in folder_2:\n",
    "        # source path to image\n",
    "        src = os.path.join('../Final FYP/input/ham10000_images_part_2', fname)\n",
    "        # destination path to image\n",
    "        dst = os.path.join(val_dir, label, fname)\n",
    "        # copy the image from the source to the destination\n",
    "        shutil.copyfile(src, dst)\n",
    "        "
   ]
  },
  {
   "cell_type": "code",
   "execution_count": 19,
   "metadata": {},
   "outputs": [
    {
     "name": "stdout",
     "output_type": "stream",
     "text": [
      "5954\n",
      "1074\n",
      "1024\n",
      "484\n",
      "301\n",
      "131\n",
      "109\n"
     ]
    }
   ],
   "source": [
    "# check how many train images we have in each folder\n",
    "\n",
    "print(len(os.listdir('base_dir/train_dir/nv')))\n",
    "print(len(os.listdir('base_dir/train_dir/mel')))\n",
    "print(len(os.listdir('base_dir/train_dir/bkl')))\n",
    "print(len(os.listdir('base_dir/train_dir/bcc')))\n",
    "print(len(os.listdir('base_dir/train_dir/akiec')))\n",
    "print(len(os.listdir('base_dir/train_dir/vasc')))\n",
    "print(len(os.listdir('base_dir/train_dir/df')))"
   ]
  },
  {
   "cell_type": "code",
   "execution_count": 20,
   "metadata": {},
   "outputs": [
    {
     "name": "stdout",
     "output_type": "stream",
     "text": [
      "751\n",
      "39\n",
      "75\n",
      "30\n",
      "26\n",
      "11\n",
      "6\n"
     ]
    },
    {
     "data": {
      "text/plain": [
       "751"
      ]
     },
     "execution_count": 20,
     "metadata": {},
     "output_type": "execute_result"
    }
   ],
   "source": [
    "# check how many val images we have in each folder\n",
    "\n",
    "print(len(os.listdir('base_dir/val_dir/nv')))\n",
    "print(len(os.listdir('base_dir/val_dir/mel')))\n",
    "print(len(os.listdir('base_dir/val_dir/bkl')))\n",
    "print(len(os.listdir('base_dir/val_dir/bcc')))\n",
    "print(len(os.listdir('base_dir/val_dir/akiec')))\n",
    "print(len(os.listdir('base_dir/val_dir/vasc')))\n",
    "print(len(os.listdir('base_dir/val_dir/df')))\n",
    "751"
   ]
  },
  {
   "cell_type": "code",
   "execution_count": 21,
   "metadata": {},
   "outputs": [
    {
     "name": "stdout",
     "output_type": "stream",
     "text": [
      "Found 1074 images belonging to 1 classes.\n",
      "Found 1024 images belonging to 1 classes.\n",
      "Found 484 images belonging to 1 classes.\n",
      "Found 301 images belonging to 1 classes.\n",
      "Found 131 images belonging to 1 classes.\n",
      "Found 109 images belonging to 1 classes.\n"
     ]
    }
   ],
   "source": [
    "# note that we are not augmenting class 'nv'\n",
    "class_list = ['mel','bkl','bcc','akiec','vasc','df']\n",
    "\n",
    "for item in class_list:\n",
    "    \n",
    "    # We are creating temporary directories here because we delete these directories later\n",
    "    # create a base dir\n",
    "    aug_dir = 'aug_dir'\n",
    "    os.mkdir(aug_dir)\n",
    "    # create a dir within the base dir to store images of the same class\n",
    "    img_dir = os.path.join(aug_dir, 'img_dir')\n",
    "    os.mkdir(img_dir)\n",
    "\n",
    "    # Choose a class\n",
    "    img_class = item\n",
    "\n",
    "    # list all images in that directory\n",
    "    img_list = os.listdir('base_dir/train_dir/' + img_class)\n",
    "\n",
    "    # Copy images from the class train dir to the img_dir e.g. class 'mel'\n",
    "    for fname in img_list:\n",
    "            # source path to image\n",
    "            src = os.path.join('base_dir/train_dir/' + img_class, fname)\n",
    "            # destination path to image\n",
    "            dst = os.path.join(img_dir, fname)\n",
    "            # copy the image from the source to the destination\n",
    "            shutil.copyfile(src, dst)\n",
    "\n",
    "\n",
    "    # point to a dir containing the images and not to the images themselves\n",
    "    path = aug_dir\n",
    "    save_path = 'base_dir/train_dir/' + img_class\n",
    "\n",
    "    # Create a data generator\n",
    "    datagen = ImageDataGenerator(\n",
    "        rotation_range=180,\n",
    "        width_shift_range=0.1,\n",
    "        height_shift_range=0.1,\n",
    "        zoom_range=0.1,\n",
    "        horizontal_flip=True,\n",
    "        vertical_flip=True,\n",
    "        #brightness_range=(0.9,1.1),\n",
    "        fill_mode='nearest')\n",
    "\n",
    "    batch_size = 50\n",
    "\n",
    "    aug_datagen = datagen.flow_from_directory(path,\n",
    "                                           save_to_dir=save_path,\n",
    "                                           save_format='jpg',\n",
    "                                                    target_size=(224,224),\n",
    "                                                    batch_size=batch_size)\n",
    "\n",
    "\n",
    "\n",
    "    # Generate the augmented images and add them to the training folders\n",
    "    \n",
    "    ###########\n",
    "    \n",
    "    num_aug_images_wanted = 6000 # total number of images we want to have in each class\n",
    "    \n",
    "    ###########\n",
    "    \n",
    "    num_files = len(os.listdir(img_dir))\n",
    "    num_batches = int(np.ceil((num_aug_images_wanted-num_files)/batch_size))\n",
    "\n",
    "    # run the generator and create about 6000 augmented images\n",
    "    for i in range(0,num_batches):\n",
    "\n",
    "        imgs, labels = next(aug_datagen)\n",
    "        \n",
    "    # delete temporary directory with the raw image files\n",
    "    shutil.rmtree('aug_dir')"
   ]
  },
  {
   "cell_type": "code",
   "execution_count": 22,
   "metadata": {},
   "outputs": [
    {
     "name": "stdout",
     "output_type": "stream",
     "text": [
      "5954\n",
      "5920\n",
      "5920\n",
      "5858\n",
      "5217\n",
      "5290\n",
      "4410\n"
     ]
    }
   ],
   "source": [
    "# Check how many train images we now have in each folder.\n",
    "# This is the original images plus the augmented images.\n",
    "\n",
    "print(len(os.listdir('base_dir/train_dir/nv')))\n",
    "print(len(os.listdir('base_dir/train_dir/mel')))\n",
    "print(len(os.listdir('base_dir/train_dir/bkl')))\n",
    "print(len(os.listdir('base_dir/train_dir/bcc')))\n",
    "print(len(os.listdir('base_dir/train_dir/akiec')))\n",
    "print(len(os.listdir('base_dir/train_dir/vasc')))\n",
    "print(len(os.listdir('base_dir/train_dir/df')))"
   ]
  },
  {
   "cell_type": "code",
   "execution_count": 23,
   "metadata": {},
   "outputs": [
    {
     "name": "stdout",
     "output_type": "stream",
     "text": [
      "751\n",
      "39\n",
      "75\n",
      "30\n",
      "26\n",
      "11\n",
      "6\n"
     ]
    }
   ],
   "source": [
    "# Check how many val images we have in each folder.\n",
    "\n",
    "print(len(os.listdir('base_dir/val_dir/nv')))\n",
    "print(len(os.listdir('base_dir/val_dir/mel')))\n",
    "print(len(os.listdir('base_dir/val_dir/bkl')))\n",
    "print(len(os.listdir('base_dir/val_dir/bcc')))\n",
    "print(len(os.listdir('base_dir/val_dir/akiec')))\n",
    "print(len(os.listdir('base_dir/val_dir/vasc')))\n",
    "print(len(os.listdir('base_dir/val_dir/df')))"
   ]
  },
  {
   "cell_type": "code",
   "execution_count": 24,
   "metadata": {},
   "outputs": [],
   "source": [
    "#Set up Generators\n",
    "\n",
    "train_path = 'base_dir/train_dir'\n",
    "valid_path = 'base_dir/val_dir'\n",
    "\n",
    "num_train_samples = len(df_train)\n",
    "num_val_samples = len(df_val)\n",
    "train_batch_size = 10\n",
    "val_batch_size = 10\n",
    "image_size = 224\n",
    "\n",
    "train_steps = np.ceil(num_train_samples / train_batch_size)\n",
    "val_steps = np.ceil(num_val_samples / val_batch_size)"
   ]
  },
  {
   "cell_type": "code",
   "execution_count": 25,
   "metadata": {},
   "outputs": [
    {
     "name": "stdout",
     "output_type": "stream",
     "text": [
      "Found 38569 images belonging to 7 classes.\n",
      "Found 938 images belonging to 7 classes.\n",
      "Found 938 images belonging to 7 classes.\n"
     ]
    }
   ],
   "source": [
    "datagen = ImageDataGenerator(\n",
    "    preprocessing_function= \\\n",
    "    tensorflow.keras.applications.mobilenet.preprocess_input)\n",
    "\n",
    "train_batches = datagen.flow_from_directory(train_path,\n",
    "                                            target_size=(image_size,image_size),\n",
    "                                            batch_size=train_batch_size)\n",
    "\n",
    "valid_batches = datagen.flow_from_directory(valid_path,\n",
    "                                            target_size=(image_size,image_size),\n",
    "                                            batch_size=val_batch_size)\n",
    "\n",
    "# Note: shuffle=False causes the test dataset to not be shuffled\n",
    "test_batches = datagen.flow_from_directory(valid_path,\n",
    "                                            target_size=(image_size,image_size),\n",
    "                                            batch_size=1,\n",
    "                                            shuffle=False)"
   ]
  },
  {
   "cell_type": "code",
   "execution_count": 27,
   "metadata": {},
   "outputs": [],
   "source": [
    "base_model = ResNet152(include_top=False, weights='imagenet')\n",
    "x = base_model.output\n",
    "x = GlobalAveragePooling2D()(x)\n",
    "x = Dense(1024, activation='relu')(x)\n",
    "x = Dropout(0.5)(x)\n",
    "predictions = Dense(train_batches.num_classes, activation='softmax')(x)\n",
    "model = Model(inputs=base_model.input, outputs=predictions)\n",
    "\n",
    "for layer in base_model.layers:\n",
    "    layer.trainable = True"
   ]
  },
  {
   "cell_type": "code",
   "execution_count": 28,
   "metadata": {},
   "outputs": [],
   "source": [
    "model_folder = '../Final FYP'\n",
    "model_path = os.path.join('Model_Weight',model_folder)\n",
    "os.mkdir(model_path)\n",
    "filepath = os.path.join(model_path,\"{epoch:02d}_{loss:.3f}_{val_loss:.3f}_{categorical_accuracy:02.4f}_{val_categorical_accuracy:02.4f}_{mel_recall:.2f}_{val_mel_recall:.2f}.h5\")"
   ]
  },
  {
   "cell_type": "code",
   "execution_count": 29,
   "metadata": {},
   "outputs": [],
   "source": [
    "checkpoint = ModelCheckpoint(filepath, monitor='val_loss', verbose=1, \n",
    "                             save_best_only=False, mode='min')\n",
    "\n",
    "reduce_lr = ReduceLROnPlateau(monitor='val_loss', factor=0.5, patience=5, \n",
    "                                   verbose=1, mode='min', min_lr=0.00001)\n",
    "                              \n",
    "                              \n",
    "callbacks_list = [checkpoint, reduce_lr]"
   ]
  },
  {
   "cell_type": "code",
   "execution_count": 30,
   "metadata": {},
   "outputs": [],
   "source": [
    "nv = os.path.join(train_path, 'nv')\n",
    "nv_folder = os.listdir(nv)\n",
    "nv_size = len(nv_folder)\n",
    "mel = os.path.join(train_path, 'mel')\n",
    "mel_folder = os.listdir(mel)\n",
    "mel_size = len(mel_folder)\n",
    "bkl = os.path.join(train_path, 'bkl')\n",
    "bkl_folder = os.listdir(bkl)\n",
    "bkl_size = len(bkl_folder)\n",
    "bcc = os.path.join(train_path, 'bcc')\n",
    "bcc_folder = os.listdir(bcc)\n",
    "bcc_size = len(bcc_folder)\n",
    "df = os.path.join(train_path, 'df')\n",
    "df_folder = os.listdir(df)\n",
    "df_size = len(df_folder)\n",
    "vasc = os.path.join(train_path, 'vasc')\n",
    "vasc_folder = os.listdir(vasc)\n",
    "vasc_size = len(vasc_folder)\n",
    "akiec = os.path.join(train_path, 'akiec')\n",
    "akiec_folder = os.listdir(akiec)\n",
    "akiec_size = len(akiec_folder)\n",
    "\n",
    "total = nv_size + mel_size + bkl_size + bcc_size + df_size + vasc_size + akiec_size\n",
    "class_weights={\n",
    "    0: total/akiec_size/7, # akiec\n",
    "    1: total/bcc_size/7, # bcc\n",
    "    2: total/bkl_size/7, # bkl\n",
    "    3: total/df_size/7, # df\n",
    "    4: total/mel_size/7, # mel\n",
    "    5: total/nv_size/7, # nv\n",
    "    6: total/vasc_size/7, # vasc\n",
    "}"
   ]
  },
  {
   "cell_type": "code",
   "execution_count": 31,
   "metadata": {},
   "outputs": [
    {
     "name": "stdout",
     "output_type": "stream",
     "text": [
      "WARNING:tensorflow:sample_weight modes were coerced from\n",
      "  ...\n",
      "    to  \n",
      "  ['...']\n",
      "WARNING:tensorflow:sample_weight modes were coerced from\n",
      "  ...\n",
      "    to  \n",
      "  ['...']\n",
      "Train for 908.0 steps, validate for 94.0 steps\n",
      "Epoch 1/30\n",
      "907/908 [============================>.] - ETA: 0s - loss: 0.9332 - categorical_accuracy: 0.6540 - mel_recall: 0.3965\n",
      "Epoch 00001: saving model to Model_Weight\\../Final FYP\\01_0.933_7.293_0.6540_0.2484_0.40_0.10.h5\n",
      "908/908 [==============================] - 250s 276ms/step - loss: 0.9331 - categorical_accuracy: 0.6540 - mel_recall: 0.3967 - val_loss: 7.2928 - val_categorical_accuracy: 0.2484 - val_mel_recall: 0.1026\n",
      "Epoch 2/30\n",
      "907/908 [============================>.] - ETA: 0s - loss: 0.5895 - categorical_accuracy: 0.7857 - mel_recall: 0.5690\n",
      "Epoch 00002: saving model to Model_Weight\\../Final FYP\\02_0.589_0.467_0.7857_0.8401_0.57_0.28.h5\n",
      "908/908 [==============================] - 228s 251ms/step - loss: 0.5893 - categorical_accuracy: 0.7857 - mel_recall: 0.5693 - val_loss: 0.4674 - val_categorical_accuracy: 0.8401 - val_mel_recall: 0.2821\n",
      "Epoch 3/30\n",
      "907/908 [============================>.] - ETA: 0s - loss: 0.5008 - categorical_accuracy: 0.8159 - mel_recall: 0.6188\n",
      "Epoch 00003: saving model to Model_Weight\\../Final FYP\\03_0.501_0.326_0.8158_0.8923_0.62_0.26.h5\n",
      "908/908 [==============================] - 229s 253ms/step - loss: 0.5007 - categorical_accuracy: 0.8158 - mel_recall: 0.6191 - val_loss: 0.3259 - val_categorical_accuracy: 0.8923 - val_mel_recall: 0.2564\n",
      "Epoch 4/30\n",
      "907/908 [============================>.] - ETA: 0s - loss: 0.4156 - categorical_accuracy: 0.8477 - mel_recall: 0.6947\n",
      "Epoch 00004: saving model to Model_Weight\\../Final FYP\\04_0.415_0.391_0.8479_0.8721_0.69_0.51.h5\n",
      "908/908 [==============================] - 229s 252ms/step - loss: 0.4154 - categorical_accuracy: 0.8479 - mel_recall: 0.6949 - val_loss: 0.3913 - val_categorical_accuracy: 0.8721 - val_mel_recall: 0.5128\n",
      "Epoch 5/30\n",
      "907/908 [============================>.] - ETA: 0s - loss: 0.3820 - categorical_accuracy: 0.8542 - mel_recall: 0.7009\n",
      "Epoch 00005: saving model to Model_Weight\\../Final FYP\\05_0.382_0.283_0.8543_0.9147_0.70_0.33.h5\n",
      "908/908 [==============================] - 228s 251ms/step - loss: 0.3818 - categorical_accuracy: 0.8543 - mel_recall: 0.7011 - val_loss: 0.2833 - val_categorical_accuracy: 0.9147 - val_mel_recall: 0.3333\n",
      "Epoch 6/30\n",
      "907/908 [============================>.] - ETA: 0s - loss: 0.3356 - categorical_accuracy: 0.8739 - mel_recall: 0.7343\n",
      "Epoch 00006: saving model to Model_Weight\\../Final FYP\\06_0.335_0.364_0.8739_0.8699_0.73_0.36.h5\n",
      "908/908 [==============================] - 229s 252ms/step - loss: 0.3354 - categorical_accuracy: 0.8739 - mel_recall: 0.7347 - val_loss: 0.3636 - val_categorical_accuracy: 0.8699 - val_mel_recall: 0.3590\n",
      "Epoch 7/30\n",
      "907/908 [============================>.] - ETA: 0s - loss: 0.2914 - categorical_accuracy: 0.8877 - mel_recall: 0.7659\n",
      "Epoch 00007: saving model to Model_Weight\\../Final FYP\\07_0.291_0.280_0.8877_0.9094_0.77_0.51.h5\n",
      "908/908 [==============================] - 229s 252ms/step - loss: 0.2913 - categorical_accuracy: 0.8877 - mel_recall: 0.7656 - val_loss: 0.2796 - val_categorical_accuracy: 0.9094 - val_mel_recall: 0.5128\n",
      "Epoch 8/30\n",
      "907/908 [============================>.] - ETA: 0s - loss: 0.2597 - categorical_accuracy: 0.9053 - mel_recall: 0.7842\n",
      "Epoch 00008: saving model to Model_Weight\\../Final FYP\\08_0.260_0.377_0.9053_0.8518_0.78_0.21.h5\n",
      "908/908 [==============================] - 229s 252ms/step - loss: 0.2596 - categorical_accuracy: 0.9053 - mel_recall: 0.7844 - val_loss: 0.3769 - val_categorical_accuracy: 0.8518 - val_mel_recall: 0.2051\n",
      "Epoch 9/30\n",
      "907/908 [============================>.] - ETA: 0s - loss: 0.2414 - categorical_accuracy: 0.9091 - mel_recall: 0.8094\n",
      "Epoch 00009: saving model to Model_Weight\\../Final FYP\\09_0.241_0.342_0.9090_0.8945_0.81_0.38.h5\n",
      "908/908 [==============================] - 228s 252ms/step - loss: 0.2415 - categorical_accuracy: 0.9090 - mel_recall: 0.8095 - val_loss: 0.3423 - val_categorical_accuracy: 0.8945 - val_mel_recall: 0.3846\n",
      "Epoch 10/30\n",
      "907/908 [============================>.] - ETA: 0s - loss: 0.2174 - categorical_accuracy: 0.9175 - mel_recall: 0.8365\n",
      "Epoch 00010: saving model to Model_Weight\\../Final FYP\\10_0.217_3.240_0.9175_0.6173_0.84_0.23.h5\n",
      "908/908 [==============================] - 229s 252ms/step - loss: 0.2173 - categorical_accuracy: 0.9175 - mel_recall: 0.8366 - val_loss: 3.2404 - val_categorical_accuracy: 0.6173 - val_mel_recall: 0.2308\n",
      "Epoch 11/30\n",
      "907/908 [============================>.] - ETA: 0s - loss: 0.1973 - categorical_accuracy: 0.9254 - mel_recall: 0.8385\n",
      "Epoch 00011: saving model to Model_Weight\\../Final FYP\\11_0.197_0.339_0.9254_0.8955_0.84_0.26.h5\n",
      "908/908 [==============================] - 229s 252ms/step - loss: 0.1972 - categorical_accuracy: 0.9254 - mel_recall: 0.8388 - val_loss: 0.3386 - val_categorical_accuracy: 0.8955 - val_mel_recall: 0.2564\n",
      "Epoch 12/30\n",
      "907/908 [============================>.] - ETA: 0s - loss: 0.1910 - categorical_accuracy: 0.9302 - mel_recall: 0.8478\n",
      "Epoch 00012: saving model to Model_Weight\\../Final FYP\\12_0.191_0.350_0.9302_0.8955_0.85_0.21.h5\n",
      "\n",
      "Epoch 00012: ReduceLROnPlateau reducing learning rate to 4.999999873689376e-05.\n",
      "908/908 [==============================] - 229s 252ms/step - loss: 0.1911 - categorical_accuracy: 0.9302 - mel_recall: 0.8474 - val_loss: 0.3498 - val_categorical_accuracy: 0.8955 - val_mel_recall: 0.2051\n",
      "Epoch 13/30\n",
      "907/908 [============================>.] - ETA: 0s - loss: 0.1054 - categorical_accuracy: 0.9614 - mel_recall: 0.9063\n",
      "Epoch 00013: saving model to Model_Weight\\../Final FYP\\13_0.105_0.246_0.9615_0.9243_0.91_0.49.h5\n",
      "908/908 [==============================] - 229s 252ms/step - loss: 0.1053 - categorical_accuracy: 0.9615 - mel_recall: 0.9063 - val_loss: 0.2455 - val_categorical_accuracy: 0.9243 - val_mel_recall: 0.4872\n",
      "Epoch 14/30\n",
      "907/908 [============================>.] - ETA: 0s - loss: 0.0818 - categorical_accuracy: 0.9719 - mel_recall: 0.9371\n",
      "Epoch 00014: saving model to Model_Weight\\../Final FYP\\14_0.082_0.266_0.9719_0.9254_0.94_0.36.h5\n",
      "908/908 [==============================] - 229s 252ms/step - loss: 0.0817 - categorical_accuracy: 0.9719 - mel_recall: 0.9371 - val_loss: 0.2657 - val_categorical_accuracy: 0.9254 - val_mel_recall: 0.3590\n",
      "Epoch 15/30\n",
      "907/908 [============================>.] - ETA: 0s - loss: 0.0707 - categorical_accuracy: 0.9743 - mel_recall: 0.9447\n",
      "Epoch 00015: saving model to Model_Weight\\../Final FYP\\15_0.071_0.402_0.9743_0.8998_0.94_0.49.h5\n",
      "908/908 [==============================] - 229s 252ms/step - loss: 0.0706 - categorical_accuracy: 0.9743 - mel_recall: 0.9447 - val_loss: 0.4016 - val_categorical_accuracy: 0.8998 - val_mel_recall: 0.4872\n",
      "Epoch 16/30\n",
      "907/908 [============================>.] - ETA: 0s - loss: 0.0646 - categorical_accuracy: 0.9775 - mel_recall: 0.9455\n",
      "Epoch 00016: saving model to Model_Weight\\../Final FYP\\16_0.065_0.311_0.9775_0.9094_0.95_0.62.h5\n",
      "908/908 [==============================] - 229s 252ms/step - loss: 0.0645 - categorical_accuracy: 0.9775 - mel_recall: 0.9456 - val_loss: 0.3114 - val_categorical_accuracy: 0.9094 - val_mel_recall: 0.6154\n",
      "Epoch 17/30\n",
      "907/908 [============================>.] - ETA: 0s - loss: 0.0586 - categorical_accuracy: 0.9784 - mel_recall: 0.9597\n",
      "Epoch 00017: saving model to Model_Weight\\../Final FYP\\17_0.059_0.279_0.9784_0.9254_0.96_0.33.h5\n",
      "908/908 [==============================] - 229s 252ms/step - loss: 0.0586 - categorical_accuracy: 0.9784 - mel_recall: 0.9597 - val_loss: 0.2785 - val_categorical_accuracy: 0.9254 - val_mel_recall: 0.3333\n",
      "Epoch 18/30\n",
      "907/908 [============================>.] - ETA: 0s - loss: 0.0456 - categorical_accuracy: 0.9843 - mel_recall: 0.9679\n",
      "Epoch 00018: saving model to Model_Weight\\../Final FYP\\18_0.046_0.294_0.9844_0.9254_0.97_0.33.h5\n",
      "\n",
      "Epoch 00018: ReduceLROnPlateau reducing learning rate to 2.499999936844688e-05.\n",
      "908/908 [==============================] - 229s 252ms/step - loss: 0.0456 - categorical_accuracy: 0.9844 - mel_recall: 0.9679 - val_loss: 0.2945 - val_categorical_accuracy: 0.9254 - val_mel_recall: 0.3333\n",
      "Epoch 19/30\n",
      "907/908 [============================>.] - ETA: 0s - loss: 0.0367 - categorical_accuracy: 0.9875 - mel_recall: 0.9720\n",
      "Epoch 00019: saving model to Model_Weight\\../Final FYP\\19_0.037_0.283_0.9876_0.9296_0.97_0.56.h5\n",
      "908/908 [==============================] - 228s 252ms/step - loss: 0.0367 - categorical_accuracy: 0.9876 - mel_recall: 0.9720 - val_loss: 0.2826 - val_categorical_accuracy: 0.9296 - val_mel_recall: 0.5641\n",
      "Epoch 20/30\n",
      "907/908 [============================>.] - ETA: 0s - loss: 0.0205 - categorical_accuracy: 0.9925 - mel_recall: 0.9852\n",
      "Epoch 00020: saving model to Model_Weight\\../Final FYP\\20_0.021_0.298_0.9925_0.9254_0.99_0.41.h5\n",
      "908/908 [==============================] - 228s 251ms/step - loss: 0.0205 - categorical_accuracy: 0.9925 - mel_recall: 0.9852 - val_loss: 0.2977 - val_categorical_accuracy: 0.9254 - val_mel_recall: 0.4103\n",
      "Epoch 21/30\n",
      "907/908 [============================>.] - ETA: 0s - loss: 0.0190 - categorical_accuracy: 0.9935 - mel_recall: 0.9845\n",
      "Epoch 00021: saving model to Model_Weight\\../Final FYP\\21_0.019_0.325_0.9935_0.9254_0.98_0.38.h5\n",
      "908/908 [==============================] - 228s 252ms/step - loss: 0.0190 - categorical_accuracy: 0.9935 - mel_recall: 0.9845 - val_loss: 0.3253 - val_categorical_accuracy: 0.9254 - val_mel_recall: 0.3846\n",
      "Epoch 22/30\n",
      "907/908 [============================>.] - ETA: 0s - loss: 0.0185 - categorical_accuracy: 0.9942 - mel_recall: 0.9859\n",
      "Epoch 00022: saving model to Model_Weight\\../Final FYP\\22_0.019_0.317_0.9942_0.9158_0.99_0.59.h5\n",
      "908/908 [==============================] - 229s 252ms/step - loss: 0.0185 - categorical_accuracy: 0.9942 - mel_recall: 0.9859 - val_loss: 0.3172 - val_categorical_accuracy: 0.9158 - val_mel_recall: 0.5897\n",
      "Epoch 23/30\n",
      "907/908 [============================>.] - ETA: 0s - loss: 0.0123 - categorical_accuracy: 0.9958 - mel_recall: 0.9905\n",
      "Epoch 00023: saving model to Model_Weight\\../Final FYP\\23_0.012_0.420_0.9958_0.9126_0.99_0.36.h5\n",
      "\n",
      "Epoch 00023: ReduceLROnPlateau reducing learning rate to 1.249999968422344e-05.\n",
      "908/908 [==============================] - 229s 252ms/step - loss: 0.0123 - categorical_accuracy: 0.9958 - mel_recall: 0.9905 - val_loss: 0.4202 - val_categorical_accuracy: 0.9126 - val_mel_recall: 0.3590\n",
      "Epoch 24/30\n",
      "907/908 [============================>.] - ETA: 0s - loss: 0.0077 - categorical_accuracy: 0.9978 - mel_recall: 0.9943\n",
      "Epoch 00024: saving model to Model_Weight\\../Final FYP\\24_0.008_0.333_0.9978_0.9296_0.99_0.46.h5\n",
      "908/908 [==============================] - 229s 252ms/step - loss: 0.0077 - categorical_accuracy: 0.9978 - mel_recall: 0.9943 - val_loss: 0.3330 - val_categorical_accuracy: 0.9296 - val_mel_recall: 0.4615\n",
      "Epoch 25/30\n",
      "907/908 [============================>.] - ETA: 0s - loss: 0.0063 - categorical_accuracy: 0.9980 - mel_recall: 0.9934\n",
      "Epoch 00025: saving model to Model_Weight\\../Final FYP\\25_0.006_0.331_0.9980_0.9296_0.99_0.41.h5\n",
      "908/908 [==============================] - 229s 252ms/step - loss: 0.0063 - categorical_accuracy: 0.9980 - mel_recall: 0.9935 - val_loss: 0.3315 - val_categorical_accuracy: 0.9296 - val_mel_recall: 0.4103\n",
      "Epoch 26/30\n",
      "907/908 [============================>.] - ETA: 0s - loss: 0.0051 - categorical_accuracy: 0.9983 - mel_recall: 0.9963\n",
      "Epoch 00026: saving model to Model_Weight\\../Final FYP\\26_0.005_0.321_0.9983_0.9318_1.00_0.38.h5\n",
      "908/908 [==============================] - 229s 252ms/step - loss: 0.0051 - categorical_accuracy: 0.9983 - mel_recall: 0.9963 - val_loss: 0.3206 - val_categorical_accuracy: 0.9318 - val_mel_recall: 0.3846\n",
      "Epoch 27/30\n",
      "907/908 [============================>.] - ETA: 0s - loss: 0.0038 - categorical_accuracy: 0.9988 - mel_recall: 0.9979\n",
      "Epoch 00027: saving model to Model_Weight\\../Final FYP\\27_0.004_0.350_0.9988_0.9275_1.00_0.54.h5\n",
      "908/908 [==============================] - 229s 252ms/step - loss: 0.0038 - categorical_accuracy: 0.9988 - mel_recall: 0.9979 - val_loss: 0.3501 - val_categorical_accuracy: 0.9275 - val_mel_recall: 0.5385\n",
      "Epoch 28/30\n",
      "907/908 [============================>.] - ETA: 0s - loss: 0.0035 - categorical_accuracy: 0.9988 - mel_recall: 0.9971\n",
      "Epoch 00028: saving model to Model_Weight\\../Final FYP\\28_0.003_0.421_0.9988_0.9286_1.00_0.56.h5\n",
      "\n",
      "Epoch 00028: ReduceLROnPlateau reducing learning rate to 1e-05.\n",
      "908/908 [==============================] - 229s 252ms/step - loss: 0.0035 - categorical_accuracy: 0.9988 - mel_recall: 0.9971 - val_loss: 0.4212 - val_categorical_accuracy: 0.9286 - val_mel_recall: 0.5641\n",
      "Epoch 29/30\n",
      "907/908 [============================>.] - ETA: 0s - loss: 0.0030 - categorical_accuracy: 0.9992 - mel_recall: 0.9993\n",
      "Epoch 00029: saving model to Model_Weight\\../Final FYP\\29_0.003_0.348_0.9992_0.9339_1.00_0.46.h5\n",
      "908/908 [==============================] - 229s 252ms/step - loss: 0.0030 - categorical_accuracy: 0.9992 - mel_recall: 0.9993 - val_loss: 0.3482 - val_categorical_accuracy: 0.9339 - val_mel_recall: 0.4615\n",
      "Epoch 30/30\n",
      "907/908 [============================>.] - ETA: 0s - loss: 0.0034 - categorical_accuracy: 0.9988 - mel_recall: 0.9986\n",
      "Epoch 00030: saving model to Model_Weight\\../Final FYP\\30_0.003_0.359_0.9988_0.9307_1.00_0.49.h5\n",
      "908/908 [==============================] - 229s 252ms/step - loss: 0.0034 - categorical_accuracy: 0.9988 - mel_recall: 0.9986 - val_loss: 0.3591 - val_categorical_accuracy: 0.9307 - val_mel_recall: 0.4872\n"
     ]
    }
   ],
   "source": [
    "model.compile(Adam(lr=0.0001), loss='categorical_crossentropy', metrics=[categorical_accuracy,tensorflow.keras.metrics.Recall(class_id = 4, name = 'mel_recall')])\n",
    "\n",
    "history = model.fit(train_batches, steps_per_epoch=train_steps,\n",
    "                    validation_data=valid_batches,\n",
    "                    validation_steps=val_steps,\n",
    "                    class_weight=class_weights,\n",
    "                    epochs=30, verbose=1,\n",
    "                    callbacks=callbacks_list)"
   ]
  },
  {
   "cell_type": "code",
   "execution_count": 32,
   "metadata": {},
   "outputs": [],
   "source": [
    "# plot curves\n",
    "acc = history.history['categorical_accuracy']\n",
    "val_acc = history.history['val_categorical_accuracy']\n",
    "loss = history.history['loss']\n",
    "val_loss = history.history['val_loss']\n",
    "mel_recall = history.history['mel_recall']\n",
    "val_mel_recall = history.history['val_mel_recall']\n",
    "epochs = range(1, len(acc) + 1)"
   ]
  },
  {
   "cell_type": "code",
   "execution_count": 33,
   "metadata": {},
   "outputs": [
    {
     "data": {
      "text/plain": [
       "<Figure size 432x288 with 0 Axes>"
      ]
     },
     "execution_count": 33,
     "metadata": {},
     "output_type": "execute_result"
    },
    {
     "data": {
      "image/png": "[encoded data removed]",
      "text/plain": [
       "<Figure size 432x288 with 1 Axes>"
      ]
     },
     "metadata": {
      "needs_background": "light"
     },
     "output_type": "display_data"
    },
    {
     "data": {
      "text/plain": [
       "<Figure size 432x288 with 0 Axes>"
      ]
     },
     "metadata": {},
     "output_type": "display_data"
    }
   ],
   "source": [
    "# loss graph\n",
    "plt.plot(epochs, loss, 'bo', label='Training loss')\n",
    "plt.plot(epochs, val_loss, 'b', label='Validation loss')\n",
    "plt.title('Training and validation loss')\n",
    "plt.legend()\n",
    "plt.savefig(os.path.join(model_path,'loss.png'))\n",
    "plt.figure()\n"
   ]
  },
  {
   "cell_type": "code",
   "execution_count": 34,
   "metadata": {},
   "outputs": [
    {
     "data": {
      "text/plain": [
       "<Figure size 432x288 with 0 Axes>"
      ]
     },
     "execution_count": 34,
     "metadata": {},
     "output_type": "execute_result"
    },
    {
     "data": {
      "image/png": "[encoded data removed]",
      "text/plain": [
       "<Figure size 432x288 with 1 Axes>"
      ]
     },
     "metadata": {
      "needs_background": "light"
     },
     "output_type": "display_data"
    },
    {
     "data": {
      "text/plain": [
       "<Figure size 432x288 with 0 Axes>"
      ]
     },
     "metadata": {},
     "output_type": "display_data"
    }
   ],
   "source": [
    "# accuracy graph\n",
    "plt.plot(epochs, acc, 'bo', label='Training cat acc')\n",
    "plt.plot(epochs, val_acc, 'b', label='Validation cat acc')\n",
    "plt.title('Training and validation cat accuracy')\n",
    "plt.legend()\n",
    "plt.savefig(os.path.join(model_path,'acc.png'))\n",
    "plt.figure()"
   ]
  },
  {
   "cell_type": "code",
   "execution_count": 35,
   "metadata": {},
   "outputs": [
    {
     "data": {
      "image/png": "[encoded data removed]",
      "text/plain": [
       "<Figure size 432x288 with 1 Axes>"
      ]
     },
     "metadata": {
      "needs_background": "light"
     },
     "output_type": "display_data"
    }
   ],
   "source": [
    "# recall graph\n",
    "plt.plot(epochs, mel_recall, 'bo', label='Melanomal recall')\n",
    "plt.plot(epochs, val_mel_recall, 'b', label='Validation Melanoma recall')\n",
    "plt.title('Training and validation Melanoma recall')\n",
    "plt.legend()\n",
    "plt.savefig(os.path.join(model_path,'recall.png'))"
   ]
  },
  {
   "cell_type": "code",
   "execution_count": 40,
   "metadata": {},
   "outputs": [
    {
     "data": {
      "text/plain": [
       "['loss', 'categorical_accuracy', 'mel_recall']"
      ]
     },
     "execution_count": 40,
     "metadata": {},
     "output_type": "execute_result"
    }
   ],
   "source": [
    "# get the metric names so we can use evaulate_generator\n",
    "model.metrics_names"
   ]
  },
  {
   "cell_type": "code",
   "execution_count": 41,
   "metadata": {},
   "outputs": [
    {
     "name": "stdout",
     "output_type": "stream",
     "text": [
      "WARNING:tensorflow:From <ipython-input-41-0a23eff25f26>:5: Model.evaluate_generator (from tensorflow.python.keras.engine.training) is deprecated and will be removed in a future version.\n",
      "Instructions for updating:\n",
      "Please use Model.evaluate, which supports generators.\n",
      "WARNING:tensorflow:sample_weight modes were coerced from\n",
      "  ...\n",
      "    to  \n",
      "  ['...']\n",
      "val_loss: 0.37518140791207905\n",
      "val_categorical_accuracy: 0.93070364\n",
      "val_mel_recall: 0.4871795\n"
     ]
    }
   ],
   "source": [
    "# Here the the last epoch will be used.\n",
    "\n",
    "val_loss, val_categorical_accuracy, val_mel_recall = \\\n",
    "model.evaluate_generator(test_batches, \n",
    "                        steps=len(df_val))\n",
    "\n",
    "print('val_loss:', val_loss)\n",
    "print('val_categorical_accuracy:', val_categorical_accuracy)\n",
    "print('val_mel_recall:', val_mel_recall)"
   ]
  },
  {
   "cell_type": "code",
   "execution_count": 53,
   "metadata": {},
   "outputs": [
    {
     "name": "stdout",
     "output_type": "stream",
     "text": [
      "WARNING:tensorflow:sample_weight modes were coerced from\n",
      "  ...\n",
      "    to  \n",
      "  ['...']\n",
      "val_loss: 0.2539216659215151\n",
      "val_categorical_accuracy: 0.92430705\n",
      "val_mel_recall: 0.4871795\n"
     ]
    }
   ],
   "source": [
    "# Here the the epoch 13, lowest loss weight will be used.\n",
    "\n",
    "model.load_weights('../Final FYP/Weight/lowest_loss.h5')\n",
    "\n",
    "val_loss, val_categorical_accuracy, val_mel_recall = \\\n",
    "model.evaluate_generator(test_batches, \n",
    "                        steps=len(df_val))\n",
    "\n",
    "print('val_loss:', val_loss)\n",
    "print('val_categorical_accuracy:', val_categorical_accuracy)\n",
    "print('val_mel_recall:', val_mel_recall)"
   ]
  },
  {
   "cell_type": "code",
   "execution_count": null,
   "metadata": {},
   "outputs": [],
   "source": []
  }
 ],
 "metadata": {
  "kernelspec": {
   "display_name": "Python 3",
   "language": "python",
   "name": "python3"
  },
  "language_info": {
   "codemirror_mode": {
    "name": "ipython",
    "version": 3
   },
   "file_extension": ".py",
   "mimetype": "text/x-python",
   "name": "python",
   "nbconvert_exporter": "python",
   "pygments_lexer": "ipython3",
   "version": "3.7.4"
  }
 },
 "nbformat": 4,
 "nbformat_minor": 2
}
